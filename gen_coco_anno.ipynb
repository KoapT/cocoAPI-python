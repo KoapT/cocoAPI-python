{
 "cells": [
  {
   "cell_type": "code",
   "execution_count": 68,
   "metadata": {},
   "outputs": [
    {
     "name": "stdout",
     "output_type": "stream",
     "text": [
      "420_2018101875717_1\n",
      "420_2018101875718\n",
      "420_2018101875724\n",
      "420_2018101875721\n",
      "420_2018101875719\n",
      "420_2018101875720\n",
      "420_2018101875723\n",
      "420_2018101875722\n",
      "420_2018101875725\n",
      "420_2018101875717\n",
      "420_2018101875718_1\n",
      "11\n",
      "No file 'Annotations/11.xml' found!\n"
     ]
    }
   ],
   "source": [
    "import os\n",
    "import json\n",
    "import numpy as np\n",
    "import xml.etree.ElementTree as ET\n",
    "\n",
    "annopath = 'Annotations'\n",
    "set_file = 'train.txt'\n",
    "label_map_path = 'label_map.json'\n",
    "\n",
    "coco_annotaton = {}\n",
    "images_list = []\n",
    "annotations_list = []\n",
    "categories_list = []\n",
    "\n",
    "with open(set_file,'r') as f:\n",
    "    file_list = list(map(lambda x:x.strip(), f.readlines()))\n",
    "\n",
    "with open(label_map_path,'r') as fp:\n",
    "    label_map = json.load(fp)\n",
    "\n",
    "categories_list = label_map\n",
    "coco_annotaton['categories'] = categories_list\n",
    "categories_dict = {cate['name']:cate['id'] for cate in categories_list}\n",
    "\n",
    "def recursive_parse_xml_to_dict(xml):\n",
    "  if not xml:\n",
    "    return {xml.tag: xml.text}\n",
    "  result = {}\n",
    "  for child in xml:\n",
    "    child_result = recursive_parse_xml_to_dict(child)\n",
    "    if child.tag != 'object':\n",
    "      result[child.tag] = child_result[child.tag]\n",
    "    else:\n",
    "      if child.tag not in result:\n",
    "        result[child.tag] = []\n",
    "      result[child.tag].append(child_result[child.tag])\n",
    "  return {xml.tag: result}\n",
    "\n",
    "for fname in file_list:\n",
    "    print(fname)\n",
    "    try:\n",
    "        with open(os.path.join(annopath,fname+'.xml'),'r') as fid:\n",
    "            xml_root = ET.parse(fid).getroot()\n",
    "            root_anno = recursive_parse_xml_to_dict(xml_root)['annotation']\n",
    "            try:\n",
    "                filename = root_anno['filename']\n",
    "                size = root_anno['size']\n",
    "            except:\n",
    "                continue\n",
    "            img_id = len(images_list)\n",
    "            images_list.append({'id':img_id,\n",
    "                            'file_name':os.path.split(filename)[-1],\n",
    "                            'width':int(size['width']),\n",
    "                            'height':int(size['height'])})\n",
    "            try:\n",
    "                objects = root_anno['object']\n",
    "            except:\n",
    "                continue\n",
    "            for obj in objects:\n",
    "                bndbox = obj['bndbox']\n",
    "                x = float(bndbox['xmin'])\n",
    "                y = float(bndbox['ymin'])\n",
    "                w = float(bndbox['xmax'])-float(bndbox['xmin'])\n",
    "                h = float(bndbox['ymax'])-float(bndbox['ymin'])\n",
    "                annotations_list.append({'id':len(annotations_list),\n",
    "                                         'image_id':img_id,\n",
    "                                         'category_id':categories_dict[obj['name']],\n",
    "                                         'bbox':[x,y,w,h],\n",
    "                                         'iscrowd':0,\n",
    "                                         'area':w*h*np.pi*.25})\n",
    "    except FileNotFoundError:\n",
    "        print('No file \\'%s\\' found!'%os.path.join(annopath,fname+'.xml'))\n",
    "coco_annotaton['images'] = images_list\n",
    "coco_annotaton['annotations'] = annotations_list\n",
    "\n",
    "with open('demo_annotation.json','w') as fw:\n",
    "    json.dump(coco_annotaton,fw)"
   ]
  },
  {
   "cell_type": "code",
   "execution_count": null,
   "metadata": {},
   "outputs": [],
   "source": []
  },
  {
   "cell_type": "code",
   "execution_count": null,
   "metadata": {},
   "outputs": [],
   "source": []
  },
  {
   "cell_type": "code",
   "execution_count": 66,
   "metadata": {},
   "outputs": [],
   "source": [
    "# 制作一个玩具result用于测试\n",
    "\n",
    "import random\n",
    "import numpy as np\n",
    "\n",
    "annos = coco_annotaton['annotations']\n",
    "result_list = []\n",
    "for box in annos:\n",
    "    for i in range(50):\n",
    "        imgid = box['image_id']\n",
    "        cateid = box['category_id']\n",
    "        bbox = list(np.array(box['bbox'])*random.uniform(0.9,1.1))\n",
    "        score = random.uniform(.5,1.) if random.random()>.5 else random.random()\n",
    "        result_list.append({'image_id':imgid,\n",
    "                            'category_id':cateid,\n",
    "                            'bbox':bbox,\n",
    "                            'score':score})\n",
    "\n",
    "with open('result.json','w') as fw:\n",
    "    json.dump(result_list,fw)"
   ]
  },
  {
   "cell_type": "code",
   "execution_count": null,
   "metadata": {},
   "outputs": [],
   "source": []
  },
  {
   "cell_type": "code",
   "execution_count": 67,
   "metadata": {},
   "outputs": [
    {
     "data": {
      "text/plain": [
       "0.7853981633974483"
      ]
     },
     "execution_count": 67,
     "metadata": {},
     "output_type": "execute_result"
    }
   ],
   "source": [
    "np.pi*.25"
   ]
  },
  {
   "cell_type": "code",
   "execution_count": null,
   "metadata": {},
   "outputs": [],
   "source": []
  }
 ],
 "metadata": {
  "kernelspec": {
   "display_name": "Python 3",
   "language": "python",
   "name": "python3"
  },
  "language_info": {
   "codemirror_mode": {
    "name": "ipython",
    "version": 3
   },
   "file_extension": ".py",
   "mimetype": "text/x-python",
   "name": "python",
   "nbconvert_exporter": "python",
   "pygments_lexer": "ipython3",
   "version": "3.5.6"
  }
 },
 "nbformat": 4,
 "nbformat_minor": 4
}
